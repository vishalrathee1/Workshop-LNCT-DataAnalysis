{
 "cells": [
  {
   "cell_type": "code",
   "execution_count": null,
   "metadata": {},
   "outputs": [],
   "source": [
    "print (\"Hello\")\n",
    "print ('Hello')\n",
    "print(\"\"\"Hello\"\"\")"
   ]
  },
  {
   "cell_type": "code",
   "execution_count": null,
   "metadata": {},
   "outputs": [],
   "source": [
    "# \\\\10.0.0.125\\User\\Public\\python\n",
    "# serverroom@lnct123"
   ]
  },
  {
   "cell_type": "code",
   "execution_count": 9,
   "metadata": {},
   "outputs": [
    {
     "name": "stdout",
     "output_type": "stream",
     "text": [
      "Hello World\n",
      "<class 'str'>\n",
      "<class 'int'>\n"
     ]
    }
   ],
   "source": [
    "msg = \"Hello World\";\n",
    "print(msg)\n",
    "print(type(msg))\n",
    "msg = 100\n",
    "print(type(msg))"
   ]
  },
  {
   "cell_type": "code",
   "execution_count": null,
   "metadata": {},
   "outputs": [],
   "source": [
    "# a-z,A-Z,0-9, _\n",
    "# cannot use keywords in identifiers name"
   ]
  },
  {
   "cell_type": "code",
   "execution_count": 12,
   "metadata": {},
   "outputs": [
    {
     "name": "stdout",
     "output_type": "stream",
     "text": [
      "94835485964896\n",
      "94835485964896\n",
      "94835485965120\n"
     ]
    }
   ],
   "source": [
    "a = 3;\n",
    "print(id(a))\n",
    "b = 3;\n",
    "print(id(b))\n",
    "\n",
    "#it means they are pointing to same memory location\n",
    "\n",
    "b = 10;\n",
    "print(id(b))"
   ]
  },
  {
   "cell_type": "code",
   "execution_count": null,
   "metadata": {},
   "outputs": [],
   "source": [
    "#Operators\n",
    "#Arithmetic operators\n",
    "# +, -, *, /, //, %, **"
   ]
  },
  {
   "cell_type": "code",
   "execution_count": 16,
   "metadata": {},
   "outputs": [
    {
     "name": "stdout",
     "output_type": "stream",
     "text": [
      "7.5\n",
      "-8\n",
      "225\n"
     ]
    }
   ],
   "source": [
    "a = 15/2\n",
    "print (a)\n",
    "a = -15//2\n",
    "print(a)\n",
    "a = 15**2\n",
    "print(a)"
   ]
  },
  {
   "cell_type": "code",
   "execution_count": null,
   "metadata": {},
   "outputs": [],
   "source": [
    "# Logical operators --> and / or"
   ]
  },
  {
   "cell_type": "code",
   "execution_count": null,
   "metadata": {},
   "outputs": [],
   "source": [
    "#Relational Operators\n",
    "# ==, <, > ,<=, >=, !="
   ]
  },
  {
   "cell_type": "code",
   "execution_count": 17,
   "metadata": {},
   "outputs": [
    {
     "name": "stdout",
     "output_type": "stream",
     "text": [
      "2\n"
     ]
    }
   ],
   "source": [
    "#Bitwise Operators\n",
    "# &, |, ^, ~, >>, <<\n",
    "a = 5^7 #101 111\n",
    "print(a)"
   ]
  },
  {
   "cell_type": "code",
   "execution_count": null,
   "metadata": {},
   "outputs": [],
   "source": [
    "#assignment operator\n",
    "# =, +=, -=, *=, %=, /=, //=, **=, &=, |=, ~=, ^=\n",
    "# <<=, >>="
   ]
  },
  {
   "cell_type": "code",
   "execution_count": 22,
   "metadata": {},
   "outputs": [
    {
     "name": "stdout",
     "output_type": "stream",
     "text": [
      "Not\n",
      "10\n"
     ]
    }
   ],
   "source": [
    "#Conditional statements\n",
    "a = 0;\n",
    "if a>0 :\n",
    "    print(\"Number is greater than 0\")\n",
    "else:\n",
    "    print(\"Not\")\n",
    "    a=10\n",
    "print(a)"
   ]
  },
  {
   "cell_type": "code",
   "execution_count": 26,
   "metadata": {},
   "outputs": [
    {
     "name": "stdout",
     "output_type": "stream",
     "text": [
      "Negative\n"
     ]
    }
   ],
   "source": [
    "a = -10;\n",
    "if a>0:\n",
    "    print(\"Positive\")\n",
    "elif a==0:\n",
    "    print(\"Zero\")\n",
    "else:\n",
    "    print(\"Negative\")"
   ]
  },
  {
   "cell_type": "code",
   "execution_count": 39,
   "metadata": {},
   "outputs": [
    {
     "name": "stdout",
     "output_type": "stream",
     "text": [
      "19\n",
      "5\n",
      "7\n",
      "57\n",
      "<class 'str'>\n",
      "19\n"
     ]
    }
   ],
   "source": [
    "# a,b,c = 10,20,30\n",
    "a = int(input()); b= input(); c = input();\n",
    "x = b+c\n",
    "print(x)\n",
    "print(type(c))\n",
    "b = int(b); c= int(c)\n",
    "if a>b and a>c:\n",
    "    print(a)\n",
    "elif b>a and b>c:\n",
    "    print(b)\n",
    "else:\n",
    "    print(c)"
   ]
  },
  {
   "cell_type": "code",
   "execution_count": null,
   "metadata": {},
   "outputs": [],
   "source": []
  },
  {
   "cell_type": "code",
   "execution_count": null,
   "metadata": {},
   "outputs": [],
   "source": []
  }
 ],
 "metadata": {
  "kernelspec": {
   "display_name": "Python 3 (ipykernel)",
   "language": "python",
   "name": "python3"
  }
 },
 "nbformat": 4,
 "nbformat_minor": 2
}
