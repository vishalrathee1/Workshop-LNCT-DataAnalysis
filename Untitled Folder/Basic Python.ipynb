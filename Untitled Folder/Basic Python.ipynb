{
 "cells": [
  {
   "cell_type": "code",
   "execution_count": 3,
   "metadata": {},
   "outputs": [
    {
     "name": "stdout",
     "output_type": "stream",
     "text": [
      "[1, 2, 3, 4]\n",
      "[1, 2, 3.5, 4.5, 'vishal']\n",
      "[[1, 'Hello', 9.7], 1, 5.0, 'World']\n"
     ]
    }
   ],
   "source": [
    "#List in python\n",
    "#syntax \n",
    "list_name = [1,2,3,4]\n",
    "print(list_name)\n",
    "list_name = [1,2,3.5,4.5, \"vishal\"]\n",
    "print(list_name)\n",
    "list_name = [[1,\"Hello\", 9.7], 1, 5.0, \"World\"]\n",
    "print(list_name)\n"
   ]
  },
  {
   "cell_type": "code",
   "execution_count": 11,
   "metadata": {},
   "outputs": [
    {
     "name": "stdout",
     "output_type": "stream",
     "text": [
      "hello\n",
      "[1, 2, 3]\n"
     ]
    }
   ],
   "source": [
    "#indexing in list\n",
    "# lst1 = [1,2,3,4]\n",
    "lst1 = [\"hello\", 1, 2.0, [1,2,3]]\n",
    "print(lst1[0])\n",
    "print(lst1[-1])"
   ]
  },
  {
   "cell_type": "code",
   "execution_count": 15,
   "metadata": {},
   "outputs": [
    {
     "name": "stdout",
     "output_type": "stream",
     "text": [
      "['hello', 1, 2.0, [1, 2, 3]]\n",
      "['hello', 1]\n",
      "[2.0, [1, 2, 3]]\n",
      "[2, 4, 6, 8]\n"
     ]
    }
   ],
   "source": [
    "#slicing\n",
    "print(lst1[:]) #print all ele of list\n",
    "\n",
    "#lst1[start_index:end_index]\n",
    "print(lst1[0:2])\n",
    "print(lst1[2:])\n",
    "\n",
    "#lst1[start_index : end_index : step_value]\n",
    "lst1 = [1,2,3,4,5,6,7,8,9]\n",
    "print(lst1[1::2])"
   ]
  },
  {
   "cell_type": "code",
   "execution_count": 32,
   "metadata": {},
   "outputs": [
    {
     "name": "stdout",
     "output_type": "stream",
     "text": [
      "[9, 8, 7, 6, 5, 4, 3, 2, 1]\n"
     ]
    }
   ],
   "source": [
    "# print(lst1[-1:-5:-1])\n",
    "# lst2 = lst1.reverse()\n",
    "# print(lst2)\n",
    "# lst1.reverse()\n",
    "# print(lst1)\n",
    "print(lst1[::-1]) #python phrases"
   ]
  },
  {
   "cell_type": "code",
   "execution_count": 39,
   "metadata": {},
   "outputs": [
    {
     "name": "stdout",
     "output_type": "stream",
     "text": [
      "[1, 7]\n"
     ]
    },
    {
     "ename": "IndexError",
     "evalue": "list assignment index out of range",
     "output_type": "error",
     "traceback": [
      "\u001b[0;31m---------------------------------------------------------------------------\u001b[0m",
      "\u001b[0;31mIndexError\u001b[0m                                Traceback (most recent call last)",
      "\u001b[0;32m<ipython-input-39-709d1631189e>\u001b[0m in \u001b[0;36m<module>\u001b[0;34m()\u001b[0m\n\u001b[1;32m      3\u001b[0m \u001b[0;34m\u001b[0m\u001b[0m\n\u001b[1;32m      4\u001b[0m \u001b[0;31m#delete\u001b[0m\u001b[0;34m\u001b[0m\u001b[0;34m\u001b[0m\u001b[0m\n\u001b[0;32m----> 5\u001b[0;31m \u001b[0;32mdel\u001b[0m \u001b[0mlst1\u001b[0m\u001b[0;34m[\u001b[0m\u001b[0;36m3\u001b[0m\u001b[0;34m]\u001b[0m\u001b[0;34m\u001b[0m\u001b[0m\n\u001b[0m\u001b[1;32m      6\u001b[0m \u001b[0mprint\u001b[0m\u001b[0;34m(\u001b[0m\u001b[0mlst1\u001b[0m\u001b[0;34m)\u001b[0m\u001b[0;34m\u001b[0m\u001b[0m\n\u001b[1;32m      7\u001b[0m \u001b[0;34m\u001b[0m\u001b[0m\n",
      "\u001b[0;31mIndexError\u001b[0m: list assignment index out of range"
     ]
    }
   ],
   "source": [
    "# lst1.remove(8)\n",
    "print(lst1)\n",
    "\n",
    "#delete\n",
    "del lst1[3]\n",
    "print(lst1)\n",
    "\n",
    "lst1.pop(1) #--> index\n",
    "print(lst1)"
   ]
  },
  {
   "cell_type": "code",
   "execution_count": 44,
   "metadata": {},
   "outputs": [
    {
     "name": "stdout",
     "output_type": "stream",
     "text": [
      "[1, 2, 3, 4, 5]\n",
      "[1, 2, 3, 4, 5, 'Hello', [6, 7, 8]]\n",
      "[1, 2, 10, 3, 4, 5, 'Hello', [6, 7, 8]]\n"
     ]
    }
   ],
   "source": [
    "#list append\n",
    "lst1 = [1,2,3,4]\n",
    "lst1.append(5)\n",
    "print(lst1)\n",
    "lst1.append(\"Hello\")\n",
    "lst1.append([6,7,8])\n",
    "print(lst1)\n",
    "\n",
    "#insert\n",
    "lst1.insert(2, 10)\n",
    "print(lst1)\n",
    "\n"
   ]
  },
  {
   "cell_type": "code",
   "execution_count": 45,
   "metadata": {},
   "outputs": [
    {
     "name": "stdout",
     "output_type": "stream",
     "text": [
      "[1, 2, 3, 4, 5, 6, 7]\n"
     ]
    }
   ],
   "source": [
    "#extend\n",
    "lst1 = [1,2,3,4]\n",
    "lst2 = [5,6,7]\n",
    "lst1.extend(lst2)\n",
    "print(lst1)"
   ]
  },
  {
   "cell_type": "code",
   "execution_count": 46,
   "metadata": {},
   "outputs": [
    {
     "name": "stdout",
     "output_type": "stream",
     "text": [
      "[1, 2, 3, 4, 5, 6, 7]\n"
     ]
    }
   ],
   "source": [
    "lst1 = [1,2,3,4]\n",
    "lst2 = [5,6,7]\n",
    "lst1 = lst1 + lst2\n",
    "print(lst1)"
   ]
  },
  {
   "cell_type": "code",
   "execution_count": 50,
   "metadata": {},
   "outputs": [
    {
     "name": "stdout",
     "output_type": "stream",
     "text": [
      "[1, 3, 5, 8, 9]\n",
      "[8, 9, 5, 3, 1]\n",
      "[1, 3, 5, 8, 9]\n"
     ]
    }
   ],
   "source": [
    "#sorting a list\n",
    "lst1 = [8,9,5,3,1]\n",
    "lst2 = sorted(lst1)\n",
    "print(lst2)\n",
    "print(lst1)\n",
    "lst1.sort() #inplace sorting\n",
    "print(lst1)"
   ]
  },
  {
   "cell_type": "code",
   "execution_count": 51,
   "metadata": {},
   "outputs": [
    {
     "name": "stdout",
     "output_type": "stream",
     "text": [
      "[9, 8, 5, 3, 1]\n"
     ]
    }
   ],
   "source": [
    "lst1 = [8,9,5,3,1]\n",
    "lst2 = sorted(lst1, reverse = True)\n",
    "print(lst2)"
   ]
  },
  {
   "cell_type": "code",
   "execution_count": 53,
   "metadata": {},
   "outputs": [
    {
     "name": "stdout",
     "output_type": "stream",
     "text": [
      "[2.3, 5, 6, 7.9]\n"
     ]
    },
    {
     "ename": "TypeError",
     "evalue": "'<' not supported between instances of 'str' and 'int'",
     "output_type": "error",
     "traceback": [
      "\u001b[0;31m---------------------------------------------------------------------------\u001b[0m",
      "\u001b[0;31mTypeError\u001b[0m                                 Traceback (most recent call last)",
      "\u001b[0;32m<ipython-input-53-24adaac59bc9>\u001b[0m in \u001b[0;36m<module>\u001b[0;34m()\u001b[0m\n\u001b[1;32m      3\u001b[0m \u001b[0mprint\u001b[0m\u001b[0;34m(\u001b[0m\u001b[0mlst1\u001b[0m\u001b[0;34m)\u001b[0m\u001b[0;34m\u001b[0m\u001b[0m\n\u001b[1;32m      4\u001b[0m \u001b[0mlst1\u001b[0m \u001b[0;34m=\u001b[0m \u001b[0;34m[\u001b[0m\u001b[0;36m7\u001b[0m\u001b[0;34m,\u001b[0m \u001b[0;34m'a'\u001b[0m\u001b[0;34m,\u001b[0m \u001b[0;36m8.9\u001b[0m\u001b[0;34m,\u001b[0m \u001b[0;36m2.3\u001b[0m\u001b[0;34m]\u001b[0m\u001b[0;34m\u001b[0m\u001b[0m\n\u001b[0;32m----> 5\u001b[0;31m \u001b[0mlst1\u001b[0m\u001b[0;34m.\u001b[0m\u001b[0msort\u001b[0m\u001b[0;34m(\u001b[0m\u001b[0;34m)\u001b[0m\u001b[0;34m\u001b[0m\u001b[0m\n\u001b[0m\u001b[1;32m      6\u001b[0m \u001b[0mprint\u001b[0m\u001b[0;34m(\u001b[0m\u001b[0mlst1\u001b[0m\u001b[0;34m)\u001b[0m\u001b[0;34m\u001b[0m\u001b[0m\n",
      "\u001b[0;31mTypeError\u001b[0m: '<' not supported between instances of 'str' and 'int'"
     ]
    }
   ],
   "source": [
    "lst1 = [6, 7.9,2.3, 5]\n",
    "lst1.sort()\n",
    "print(lst1)\n",
    "lst1 = [7, 'a', 8.9, 2.3]\n",
    "lst1.sort()\n",
    "print(lst1)"
   ]
  },
  {
   "cell_type": "code",
   "execution_count": 57,
   "metadata": {},
   "outputs": [
    {
     "name": "stdout",
     "output_type": "stream",
     "text": [
      "[1, 2, 3, 4, 5]\n",
      "True\n",
      "[1, 2, 3, 4, 5]\n",
      "[1, 2, 3, 4]\n",
      "False\n"
     ]
    }
   ],
   "source": [
    "lst1 = [1,2,3,4]\n",
    "lst2 = lst1\n",
    "lst2.append(5)\n",
    "print(lst1)\n",
    "print(lst1 is lst2) #is --> identity operator\n",
    "lst2 = [1,2,3,4]\n",
    "print(lst1)\n",
    "print(lst2)\n",
    "print(lst1 is lst2)"
   ]
  },
  {
   "cell_type": "code",
   "execution_count": null,
   "metadata": {},
   "outputs": [],
   "source": []
  },
  {
   "cell_type": "code",
   "execution_count": 59,
   "metadata": {},
   "outputs": [
    {
     "name": "stdout",
     "output_type": "stream",
     "text": [
      "True\n",
      "False\n"
     ]
    }
   ],
   "source": [
    "a = 3\n",
    "b = 3\n",
    "print(a is b)\n",
    "lst1 = [1,2,3,4]\n",
    "lst2 = [1,2,3,4]\n",
    "print(lst1 is lst2)"
   ]
  },
  {
   "cell_type": "code",
   "execution_count": 62,
   "metadata": {},
   "outputs": [
    {
     "name": "stdout",
     "output_type": "stream",
     "text": [
      "True\n",
      "False\n"
     ]
    }
   ],
   "source": [
    "#membership operator\n",
    "# in not in\n",
    "lst1 = [1,2,3,4]\n",
    "print(3 in lst1)\n",
    "print(3 not in lst1)"
   ]
  },
  {
   "cell_type": "code",
   "execution_count": null,
   "metadata": {},
   "outputs": [],
   "source": [
    "#loops and output formatting\n",
    "# i = 1\n",
    "# while i<=10:\n",
    "#     print(i)\n",
    "#     i+=1 # i = i+1\n",
    "#     #i++ no unary\n",
    "\n",
    "i = 1\n",
    "while i<=5:\n",
    "    print(i)\n",
    "    i+=1\n",
    "else:\n",
    "    print(\"Out of while loop\")"
   ]
  },
  {
   "cell_type": "code",
   "execution_count": 1,
   "metadata": {},
   "outputs": [
    {
     "name": "stdout",
     "output_type": "stream",
     "text": [
      "1\n",
      "2\n",
      "3\n",
      "4\n",
      "5\n",
      "Out of while loop\n"
     ]
    }
   ],
   "source": [
    "i = 1\n",
    "while i<=5:\n",
    "    print(i)\n",
    "    i+=1\n",
    "else:\n",
    "    print(\"Out of while loop\")"
   ]
  },
  {
   "cell_type": "code",
   "execution_count": 2,
   "metadata": {},
   "outputs": [
    {
     "name": "stdout",
     "output_type": "stream",
     "text": [
      "1\n",
      "2\n",
      "3\n",
      "4\n",
      "5\n",
      "6\n",
      "7\n",
      "8\n",
      "9\n"
     ]
    }
   ],
   "source": [
    "#for loop\n",
    "for i in range(1, 10):\n",
    "    print(i)\n"
   ]
  },
  {
   "cell_type": "code",
   "execution_count": 5,
   "metadata": {},
   "outputs": [
    {
     "name": "stdout",
     "output_type": "stream",
     "text": [
      "10\n",
      "8\n",
      "6\n",
      "4\n",
      "2\n",
      "Out of for loop\n"
     ]
    }
   ],
   "source": [
    "for i in range(10, 1, -2):\n",
    "    print(i)\n",
    "else :\n",
    "    print(\"Out of for loop\")"
   ]
  },
  {
   "cell_type": "code",
   "execution_count": 8,
   "metadata": {},
   "outputs": [
    {
     "name": "stdout",
     "output_type": "stream",
     "text": [
      "1\n",
      "2\n",
      "3\n",
      "4\n",
      "1\n",
      "2\n",
      "3\n",
      "4\n"
     ]
    }
   ],
   "source": [
    "lst1 = [1,2,3,4]\n",
    "\n",
    "for ele in lst1:\n",
    "    print(ele)\n",
    "\n",
    "for i in range(len(lst1)): #\n",
    "    print(lst1[i])"
   ]
  },
  {
   "cell_type": "code",
   "execution_count": 11,
   "metadata": {},
   "outputs": [
    {
     "name": "stdout",
     "output_type": "stream",
     "text": [
      "1\n",
      "2\n",
      "3\n",
      "4\n",
      "5\n",
      "6\n",
      "7\n",
      "8\n"
     ]
    }
   ],
   "source": [
    "#break and continue\n",
    "for i in range(1,10):\n",
    "    if(i == 9):\n",
    "        break\n",
    "    print(i)\n",
    "else : \n",
    "    print(\"Out of for loop\")"
   ]
  },
  {
   "cell_type": "code",
   "execution_count": 17,
   "metadata": {},
   "outputs": [
    {
     "name": "stdout",
     "output_type": "stream",
     "text": [
      "[1, 2, 3, 4, 5]\n",
      "[1, 2, 3, 4, 5]\n",
      "[[1, 2, 3], [1, 2, 3], [1, 2, 3]]\n"
     ]
    }
   ],
   "source": [
    "#list comprehension\n",
    "lst1 = []\n",
    "for i in range(1,6):\n",
    "    lst1.append(i)\n",
    "print(lst1)\n",
    "\n",
    "lst2 = [ i for i in range(1,6)]\n",
    "print(lst2)\n",
    "\n",
    "lst3 = [[i for i in range(1,4)] for j in range(1,4)]\n",
    "print(lst3)"
   ]
  },
  {
   "cell_type": "code",
   "execution_count": 32,
   "metadata": {},
   "outputs": [
    {
     "name": "stdout",
     "output_type": "stream",
     "text": [
      "(1, 2, 3)\n",
      "(1, 2, 4.5, 'Hello', (3, 4, 5), [1, 2, 3])\n",
      "1\n",
      "[1, 2, 3]\n",
      "(1, 2, 4.5, 'Hello', (3, 4, 5), [1, 2, 3])\n",
      "(2, 4.5, 'Hello', (3, 4, 5))\n",
      "(1, 4.5, (3, 4, 5))\n",
      "([1, 2, 3], (3, 4, 5), 'Hello', 4.5, 2, 1)\n"
     ]
    }
   ],
   "source": [
    "#tuples --> immutable, indexed ds\n",
    "#creation\n",
    "t = () #--> empty tuple\n",
    "t = (1,2,3)\n",
    "print(t)\n",
    "t = (1, 2, 4.5, \"Hello\", (3,4,5),[1,2,3])\n",
    "print(t)\n",
    "print(t[0])\n",
    "print(t[-1])\n",
    "# t[0] = 10\n",
    "print(t[:])\n",
    "print(t[1:5])\n",
    "print(t[::2])\n",
    "print(t[::-1])\n",
    "# t.delete()\n",
    "del t #deleting entire tuple\n",
    "# print(t)"
   ]
  },
  {
   "cell_type": "code",
   "execution_count": 38,
   "metadata": {},
   "outputs": [
    {
     "name": "stdout",
     "output_type": "stream",
     "text": [
      "1\n",
      "<class 'list'>\n",
      "<class 'tuple'>\n",
      "(1, 2, 4.5, 'Hello', (3, 4, 5), [10, 2, 3, 5])\n"
     ]
    }
   ],
   "source": [
    "t = (1, 2, 4.5, \"Hello\", (3,4,5),[1,2,3])\n",
    "print(t[-1][0])\n",
    "print(type(t[-1]))\n",
    "print(type(t))\n",
    "t[-1][0] = 10;\n",
    "t[-1].append(5)\n",
    "print(t)\n",
    "\n"
   ]
  },
  {
   "cell_type": "code",
   "execution_count": 42,
   "metadata": {},
   "outputs": [
    {
     "name": "stdout",
     "output_type": "stream",
     "text": [
      "[1, 2, 3]\n",
      "<class 'list'>\n",
      "(1, 2, 3)\n",
      "[1, 2, 3]\n"
     ]
    }
   ],
   "source": [
    "t = (3,2,1)\n",
    "t2 = sorted(t)\n",
    "print(t2)\n",
    "print(type(t2))\n",
    "t3 = tuple(t2)\n",
    "l2 = list(t3)\n",
    "print(t3)\n",
    "print(l2)"
   ]
  },
  {
   "cell_type": "code",
   "execution_count": 44,
   "metadata": {},
   "outputs": [
    {
     "name": "stdout",
     "output_type": "stream",
     "text": [
      "['This', 'is', 'a', 'string']\n",
      "['This', 'is', 'another', 'string']\n"
     ]
    }
   ],
   "source": [
    "#list split\n",
    "s = \"This,is,a,string\"\n",
    "l2 = s.split(',')\n",
    "print(l2)\n",
    "s = \"This is another string\"\n",
    "l2 = s.split()\n",
    "print(l2)"
   ]
  },
  {
   "cell_type": "code",
   "execution_count": 45,
   "metadata": {},
   "outputs": [
    {
     "ename": "AttributeError",
     "evalue": "'tuple' object has no attribute 'sort'",
     "output_type": "error",
     "traceback": [
      "\u001b[0;31m---------------------------------------------------------------------------\u001b[0m",
      "\u001b[0;31mAttributeError\u001b[0m                            Traceback (most recent call last)",
      "\u001b[0;32m<ipython-input-45-943a0b5c4f14>\u001b[0m in \u001b[0;36m<module>\u001b[0;34m()\u001b[0m\n\u001b[1;32m      1\u001b[0m \u001b[0mt\u001b[0m \u001b[0;34m=\u001b[0m \u001b[0;34m(\u001b[0m\u001b[0;36m3\u001b[0m\u001b[0;34m,\u001b[0m\u001b[0;36m2\u001b[0m\u001b[0;34m,\u001b[0m\u001b[0;36m1\u001b[0m\u001b[0;34m)\u001b[0m\u001b[0;34m\u001b[0m\u001b[0m\n\u001b[0;32m----> 2\u001b[0;31m \u001b[0mt\u001b[0m\u001b[0;34m.\u001b[0m\u001b[0msort\u001b[0m\u001b[0;34m(\u001b[0m\u001b[0;34m)\u001b[0m\u001b[0;34m\u001b[0m\u001b[0m\n\u001b[0m\u001b[1;32m      3\u001b[0m \u001b[0mprint\u001b[0m\u001b[0;34m(\u001b[0m\u001b[0mt\u001b[0m\u001b[0;34m)\u001b[0m\u001b[0;34m\u001b[0m\u001b[0m\n",
      "\u001b[0;31mAttributeError\u001b[0m: 'tuple' object has no attribute 'sort'"
     ]
    }
   ],
   "source": [
    "t = (3,2,1)\n",
    "t.sort()\n",
    "print(t)"
   ]
  },
  {
   "cell_type": "code",
   "execution_count": 48,
   "metadata": {},
   "outputs": [
    {
     "name": "stdout",
     "output_type": "stream",
     "text": [
      "<class 'str'>\n",
      "<class 'tuple'>\n",
      "<class 'tuple'>\n"
     ]
    }
   ],
   "source": [
    "t = (\"Hello\")\n",
    "print(type(t))\n",
    "t = (\"Hello\",)\n",
    "print(type(t))\n",
    "t = \"World\",\n",
    "print(type(t))"
   ]
  },
  {
   "cell_type": "code",
   "execution_count": 54,
   "metadata": {},
   "outputs": [
    {
     "name": "stdout",
     "output_type": "stream",
     "text": [
      "True\n",
      "3\n",
      "1\n",
      "3\n",
      "6\n",
      "Minimum value is :  1  Maximum value is :  3\n",
      "Tuple is  (1, 2, 3, 4)\n"
     ]
    }
   ],
   "source": [
    "t = (1,2,3)\n",
    "print(1 in t)\n",
    "print(len(t))\n",
    "mini = min(t)\n",
    "maxi = max(t)\n",
    "summ = sum(t)\n",
    "print(mini)\n",
    "print(maxi)\n",
    "print(summ)\n",
    "\n",
    "#output formatting\n",
    "print(\"Minimum value is : \", mini, \" Maximum value is : \", maxi)\n",
    "t = (1,2,3,4)\n",
    "print(\"Tuple is \", t)"
   ]
  },
  {
   "cell_type": "code",
   "execution_count": 62,
   "metadata": {},
   "outputs": [
    {
     "name": "stdout",
     "output_type": "stream",
     "text": [
      "<class 'set'>\n",
      "{1, 3, 5, 7, 40, 20}\n"
     ]
    }
   ],
   "source": [
    "#set --> non-indexed, but mutable , randomly arranged elements\n",
    "# hashset data structure --> unique items\n",
    "# s = {1,2,3,4}\n",
    "s = set()\n",
    "# s = {} --> it becomes dict\n",
    "print(type(s))\n",
    "s = {1,20,3,40, 7, 5, 5, 1, 1, 1}\n",
    "print(s)\n",
    "# print(s[0])"
   ]
  }
 ],
 "metadata": {
  "kernelspec": {
   "display_name": "Python 3 (ipykernel)",
   "language": "python",
   "name": "python3"
  },
  "language_info": {
   "codemirror_mode": {
    "name": "ipython",
    "version": 3
   },
   "file_extension": ".py",
   "mimetype": "text/x-python",
   "name": "python",
   "nbconvert_exporter": "python",
   "pygments_lexer": "ipython3",
   "version": "3.6.5"
  }
 },
 "nbformat": 4,
 "nbformat_minor": 2
}
